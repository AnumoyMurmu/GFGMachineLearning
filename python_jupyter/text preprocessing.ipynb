{
 "cells": [
  {
   "cell_type": "code",
   "execution_count": 17,
   "id": "33323af8",
   "metadata": {},
   "outputs": [
    {
     "name": "stdout",
     "output_type": "stream",
     "text": [
      "The symptoms of COVID-19 are variable depending on the type of variant contracted, ranging from mild symptoms to a potentially fatal illness.[37][38] Common symptoms include coughing, fever, loss of smell (anosmia) and taste (ageusia), with less common ones including headaches, nasal congestion and runny nose, muscle pain, sore throat, diarrhea, eye irritation,[39] and toes swelling or turning purple,[40] and in moderate to severe cases, breathing difficulties.[41] People with the COVID-19 infection may have different symptoms, and their symptoms may change over time. Three common clusters of symptoms have been identified: one respiratory symptom cluster with cough, sputum, shortness of breath, and fever; a musculoskeletal symptom cluster with muscle and joint pain, headache, and fatigue; and a cluster of digestive symptoms with abdominal pain, vomiting, and diarrhea.[41] In people without prior ear, nose, or throat disorders, loss of taste combined with loss of smell is associated with COVID-19 and is reported in as many as 88% of symptomatic cases.[42][43][44]\n",
      "\n",
      "Of people who show symptoms, 81% develop only mild to moderate symptoms (up to mild pneumonia), while 14% develop severe symptoms (dyspnea, hypoxia, or more than 50% lung involvement on imaging) that require hospitalization, and 5% of patients develop critical symptoms (respiratory failure, septic shock, or multiorgan dysfunction) requiring ICU admission.[45][needs update]\n"
     ]
    }
   ],
   "source": [
    "fd=open('data.txt','r')\n",
    "txt=fd.read()\n",
    "print(txt)\n",
    "fd.close()"
   ]
  },
  {
   "cell_type": "markdown",
   "id": "f2ee01cd",
   "metadata": {},
   "source": [
    "### preprocessing: A preliminary processing of data in order to prepare it for the primary processing or for further analysis.\n",
    "(analysing total lines, characters, numbers in the corpus etc)"
   ]
  },
  {
   "cell_type": "code",
   "execution_count": 14,
   "id": "e9062c4f",
   "metadata": {},
   "outputs": [
    {
     "data": {
      "text/plain": [
       "str"
      ]
     },
     "execution_count": 14,
     "metadata": {},
     "output_type": "execute_result"
    }
   ],
   "source": [
    "type(txt)"
   ]
  },
  {
   "cell_type": "markdown",
   "id": "d07c627d",
   "metadata": {},
   "source": [
    "### Paragraph"
   ]
  },
  {
   "cell_type": "code",
   "execution_count": 22,
   "id": "1c55672c",
   "metadata": {},
   "outputs": [
    {
     "name": "stdout",
     "output_type": "stream",
     "text": [
      "2\n"
     ]
    }
   ],
   "source": [
    "per=txt.split(\"\\n\\n\")\n",
    "print(len(per))"
   ]
  },
  {
   "cell_type": "code",
   "execution_count": 21,
   "id": "31dad505",
   "metadata": {},
   "outputs": [
    {
     "name": "stdout",
     "output_type": "stream",
     "text": [
      "The symptoms of COVID-19 are variable depending on the type of variant contracted, ranging from mild symptoms to a potentially fatal illness.[37][38] Common symptoms include coughing, fever, loss of smell (anosmia) and taste (ageusia), with less common ones including headaches, nasal congestion and runny nose, muscle pain, sore throat, diarrhea, eye irritation,[39] and toes swelling or turning purple,[40] and in moderate to severe cases, breathing difficulties.[41] People with the COVID-19 infection may have different symptoms, and their symptoms may change over time. Three common clusters of symptoms have been identified: one respiratory symptom cluster with cough, sputum, shortness of breath, and fever; a musculoskeletal symptom cluster with muscle and joint pain, headache, and fatigue; and a cluster of digestive symptoms with abdominal pain, vomiting, and diarrhea.[41] In people without prior ear, nose, or throat disorders, loss of taste combined with loss of smell is associated with COVID-19 and is reported in as many as 88% of symptomatic cases.[42][43][44]\n",
      "Of people who show symptoms, 81% develop only mild to moderate symptoms (up to mild pneumonia), while 14% develop severe symptoms (dyspnea, hypoxia, or more than 50% lung involvement on imaging) that require hospitalization, and 5% of patients develop critical symptoms (respiratory failure, septic shock, or multiorgan dysfunction) requiring ICU admission.[45][needs update]\n"
     ]
    }
   ],
   "source": [
    "for i in per:\n",
    "    print(i)"
   ]
  },
  {
   "cell_type": "markdown",
   "id": "55067f8c",
   "metadata": {},
   "source": [
    "### Lines"
   ]
  },
  {
   "cell_type": "code",
   "execution_count": 23,
   "id": "1b7a38ae",
   "metadata": {},
   "outputs": [
    {
     "data": {
      "text/plain": [
       "['The symptoms of COVID-19 are variable depending on the type of variant contracted, ranging from mild symptoms to a potentially fatal illness',\n",
       " '[37][38] Common symptoms include coughing, fever, loss of smell (anosmia) and taste (ageusia), with less common ones including headaches, nasal congestion and runny nose, muscle pain, sore throat, diarrhea, eye irritation,[39] and toes swelling or turning purple,[40] and in moderate to severe cases, breathing difficulties',\n",
       " '[41] People with the COVID-19 infection may have different symptoms, and their symptoms may change over time',\n",
       " ' Three common clusters of symptoms have been identified: one respiratory symptom cluster with cough, sputum, shortness of breath, and fever; a musculoskeletal symptom cluster with muscle and joint pain, headache, and fatigue; and a cluster of digestive symptoms with abdominal pain, vomiting, and diarrhea',\n",
       " '[41] In people without prior ear, nose, or throat disorders, loss of taste combined with loss of smell is associated with COVID-19 and is reported in as many as 88% of symptomatic cases',\n",
       " '[42][43][44]\\n\\nOf people who show symptoms, 81% develop only mild to moderate symptoms (up to mild pneumonia), while 14% develop severe symptoms (dyspnea, hypoxia, or more than 50% lung involvement on imaging) that require hospitalization, and 5% of patients develop critical symptoms (respiratory failure, septic shock, or multiorgan dysfunction) requiring ICU admission',\n",
       " '[45][needs update]']"
      ]
     },
     "execution_count": 23,
     "metadata": {},
     "output_type": "execute_result"
    }
   ],
   "source": [
    "txt.split(\".\")   #splits the lines by \".\""
   ]
  },
  {
   "cell_type": "code",
   "execution_count": 25,
   "id": "c60f181b",
   "metadata": {},
   "outputs": [
    {
     "data": {
      "text/plain": [
       "7"
      ]
     },
     "execution_count": 25,
     "metadata": {},
     "output_type": "execute_result"
    }
   ],
   "source": [
    "len(txt.split(\".\"))  #returns the numbers of lines present"
   ]
  },
  {
   "cell_type": "code",
   "execution_count": 31,
   "id": "87e2c564",
   "metadata": {},
   "outputs": [
    {
     "name": "stdout",
     "output_type": "stream",
     "text": [
      "['The symptoms of COVID-19 are variable depending on the type of variant contracted, ranging from mild symptoms to a potentially fatal illness', '[37][38] Common symptoms include coughing, fever, loss of smell (anosmia) and taste (ageusia), with less common ones including headaches, nasal congestion and runny nose, muscle pain, sore throat, diarrhea, eye irritation,[39] and toes swelling or turning purple,[40] and in moderate to severe cases, breathing difficulties', '[41] People with the COVID-19 infection may have different symptoms, and their symptoms may change over time', ' Three common clusters of symptoms have been identified: one respiratory symptom cluster with cough, sputum, shortness of breath, and fever; a musculoskeletal symptom cluster with muscle and joint pain, headache, and fatigue; and a cluster of digestive symptoms with abdominal pain, vomiting, and diarrhea', '[41] In people without prior ear, nose, or throat disorders, loss of taste combined with loss of smell is associated with COVID-19 and is reported in as many as 88% of symptomatic cases', '[42][43][44]\\n\\nOf people who show symptoms, 81% develop only mild to moderate symptoms (up to mild pneumonia), while 14% develop severe symptoms (dyspnea, hypoxia, or more than 50% lung involvement on imaging) that require hospitalization, and 5% of patients develop critical symptoms (respiratory failure, septic shock, or multiorgan dysfunction) requiring ICU admission']\n"
     ]
    }
   ],
   "source": [
    "lines=txt.split(\".\")\n",
    "# print(lines[-1])   #accessing lines through indexing\n",
    "print(lines[:-1])"
   ]
  },
  {
   "cell_type": "markdown",
   "id": "b5e219aa",
   "metadata": {},
   "source": [
    "### Words\n"
   ]
  },
  {
   "cell_type": "code",
   "execution_count": 32,
   "id": "40b041f4",
   "metadata": {},
   "outputs": [
    {
     "name": "stdout",
     "output_type": "stream",
     "text": [
      "['The', 'symptoms', 'of', 'COVID-19', 'are', 'variable', 'depending', 'on', 'the', 'type', 'of', 'variant', 'contracted,', 'ranging', 'from', 'mild', 'symptoms', 'to', 'a', 'potentially', 'fatal', 'illness.[37][38]', 'Common', 'symptoms', 'include', 'coughing,', 'fever,', 'loss', 'of', 'smell', '(anosmia)', 'and', 'taste', '(ageusia),', 'with', 'less', 'common', 'ones', 'including', 'headaches,', 'nasal', 'congestion', 'and', 'runny', 'nose,', 'muscle', 'pain,', 'sore', 'throat,', 'diarrhea,', 'eye', 'irritation,[39]', 'and', 'toes', 'swelling', 'or', 'turning', 'purple,[40]', 'and', 'in', 'moderate', 'to', 'severe', 'cases,', 'breathing', 'difficulties.[41]', 'People', 'with', 'the', 'COVID-19', 'infection', 'may', 'have', 'different', 'symptoms,', 'and', 'their', 'symptoms', 'may', 'change', 'over', 'time.', 'Three', 'common', 'clusters', 'of', 'symptoms', 'have', 'been', 'identified:', 'one', 'respiratory', 'symptom', 'cluster', 'with', 'cough,', 'sputum,', 'shortness', 'of', 'breath,', 'and', 'fever;', 'a', 'musculoskeletal', 'symptom', 'cluster', 'with', 'muscle', 'and', 'joint', 'pain,', 'headache,', 'and', 'fatigue;', 'and', 'a', 'cluster', 'of', 'digestive', 'symptoms', 'with', 'abdominal', 'pain,', 'vomiting,', 'and', 'diarrhea.[41]', 'In', 'people', 'without', 'prior', 'ear,', 'nose,', 'or', 'throat', 'disorders,', 'loss', 'of', 'taste', 'combined', 'with', 'loss', 'of', 'smell', 'is', 'associated', 'with', 'COVID-19', 'and', 'is', 'reported', 'in', 'as', 'many', 'as', '88%', 'of', 'symptomatic', 'cases.[42][43][44]\\n\\nOf', 'people', 'who', 'show', 'symptoms,', '81%', 'develop', 'only', 'mild', 'to', 'moderate', 'symptoms', '(up', 'to', 'mild', 'pneumonia),', 'while', '14%', 'develop', 'severe', 'symptoms', '(dyspnea,', 'hypoxia,', 'or', 'more', 'than', '50%', 'lung', 'involvement', 'on', 'imaging)', 'that', 'require', 'hospitalization,', 'and', '5%', 'of', 'patients', 'develop', 'critical', 'symptoms', '(respiratory', 'failure,', 'septic', 'shock,', 'or', 'multiorgan', 'dysfunction)', 'requiring', 'ICU', 'admission.[45][needs', 'update]']\n"
     ]
    }
   ],
   "source": [
    "words=txt.split(\" \")   #splitting words by \" \" ans storing them inside words variable\n",
    "print(words) "
   ]
  },
  {
   "cell_type": "code",
   "execution_count": 33,
   "id": "216d9145",
   "metadata": {},
   "outputs": [
    {
     "data": {
      "text/plain": [
       "['The',\n",
       " 'symptoms',\n",
       " 'of',\n",
       " 'COVID-19',\n",
       " 'are',\n",
       " 'variable',\n",
       " 'depending',\n",
       " 'on',\n",
       " 'the',\n",
       " 'type',\n",
       " 'of',\n",
       " 'variant',\n",
       " 'contracted,',\n",
       " 'ranging',\n",
       " 'from',\n",
       " 'mild',\n",
       " 'symptoms',\n",
       " 'to',\n",
       " 'a',\n",
       " 'potentially',\n",
       " 'fatal',\n",
       " 'illness.[37][38]',\n",
       " 'Common',\n",
       " 'symptoms',\n",
       " 'include',\n",
       " 'coughing,',\n",
       " 'fever,',\n",
       " 'loss',\n",
       " 'of',\n",
       " 'smell',\n",
       " '(anosmia)',\n",
       " 'and',\n",
       " 'taste',\n",
       " '(ageusia),',\n",
       " 'with',\n",
       " 'less',\n",
       " 'common',\n",
       " 'ones',\n",
       " 'including',\n",
       " 'headaches,',\n",
       " 'nasal',\n",
       " 'congestion',\n",
       " 'and',\n",
       " 'runny',\n",
       " 'nose,',\n",
       " 'muscle',\n",
       " 'pain,',\n",
       " 'sore',\n",
       " 'throat,',\n",
       " 'diarrhea,',\n",
       " 'eye',\n",
       " 'irritation,[39]',\n",
       " 'and',\n",
       " 'toes',\n",
       " 'swelling',\n",
       " 'or',\n",
       " 'turning',\n",
       " 'purple,[40]',\n",
       " 'and',\n",
       " 'in',\n",
       " 'moderate',\n",
       " 'to',\n",
       " 'severe',\n",
       " 'cases,',\n",
       " 'breathing',\n",
       " 'difficulties.[41]',\n",
       " 'People',\n",
       " 'with',\n",
       " 'the',\n",
       " 'COVID-19',\n",
       " 'infection',\n",
       " 'may',\n",
       " 'have',\n",
       " 'different',\n",
       " 'symptoms,',\n",
       " 'and',\n",
       " 'their',\n",
       " 'symptoms',\n",
       " 'may',\n",
       " 'change',\n",
       " 'over',\n",
       " 'time.',\n",
       " 'Three',\n",
       " 'common',\n",
       " 'clusters',\n",
       " 'of',\n",
       " 'symptoms',\n",
       " 'have',\n",
       " 'been',\n",
       " 'identified:',\n",
       " 'one',\n",
       " 'respiratory',\n",
       " 'symptom',\n",
       " 'cluster',\n",
       " 'with',\n",
       " 'cough,',\n",
       " 'sputum,',\n",
       " 'shortness',\n",
       " 'of',\n",
       " 'breath,',\n",
       " 'and',\n",
       " 'fever;',\n",
       " 'a',\n",
       " 'musculoskeletal',\n",
       " 'symptom',\n",
       " 'cluster',\n",
       " 'with',\n",
       " 'muscle',\n",
       " 'and',\n",
       " 'joint',\n",
       " 'pain,',\n",
       " 'headache,',\n",
       " 'and',\n",
       " 'fatigue;',\n",
       " 'and',\n",
       " 'a',\n",
       " 'cluster',\n",
       " 'of',\n",
       " 'digestive',\n",
       " 'symptoms',\n",
       " 'with',\n",
       " 'abdominal',\n",
       " 'pain,',\n",
       " 'vomiting,',\n",
       " 'and',\n",
       " 'diarrhea.[41]',\n",
       " 'In',\n",
       " 'people',\n",
       " 'without',\n",
       " 'prior',\n",
       " 'ear,',\n",
       " 'nose,',\n",
       " 'or',\n",
       " 'throat',\n",
       " 'disorders,',\n",
       " 'loss',\n",
       " 'of',\n",
       " 'taste',\n",
       " 'combined',\n",
       " 'with',\n",
       " 'loss',\n",
       " 'of',\n",
       " 'smell',\n",
       " 'is',\n",
       " 'associated',\n",
       " 'with',\n",
       " 'COVID-19',\n",
       " 'and',\n",
       " 'is',\n",
       " 'reported',\n",
       " 'in',\n",
       " 'as',\n",
       " 'many',\n",
       " 'as',\n",
       " '88%',\n",
       " 'of',\n",
       " 'symptomatic',\n",
       " 'cases.[42][43][44]\\n\\nOf',\n",
       " 'people',\n",
       " 'who',\n",
       " 'show',\n",
       " 'symptoms,',\n",
       " '81%',\n",
       " 'develop',\n",
       " 'only',\n",
       " 'mild',\n",
       " 'to',\n",
       " 'moderate',\n",
       " 'symptoms',\n",
       " '(up',\n",
       " 'to',\n",
       " 'mild',\n",
       " 'pneumonia),',\n",
       " 'while',\n",
       " '14%',\n",
       " 'develop',\n",
       " 'severe',\n",
       " 'symptoms',\n",
       " '(dyspnea,',\n",
       " 'hypoxia,',\n",
       " 'or',\n",
       " 'more',\n",
       " 'than',\n",
       " '50%',\n",
       " 'lung',\n",
       " 'involvement',\n",
       " 'on',\n",
       " 'imaging)',\n",
       " 'that',\n",
       " 'require',\n",
       " 'hospitalization,',\n",
       " 'and',\n",
       " '5%',\n",
       " 'of',\n",
       " 'patients',\n",
       " 'develop',\n",
       " 'critical',\n",
       " 'symptoms',\n",
       " '(respiratory',\n",
       " 'failure,',\n",
       " 'septic',\n",
       " 'shock,',\n",
       " 'or',\n",
       " 'multiorgan',\n",
       " 'dysfunction)',\n",
       " 'requiring',\n",
       " 'ICU',\n",
       " 'admission.[45][needs',\n",
       " 'update]']"
      ]
     },
     "execution_count": 33,
     "metadata": {},
     "output_type": "execute_result"
    }
   ],
   "source": [
    "words"
   ]
  },
  {
   "cell_type": "code",
   "execution_count": 34,
   "id": "e5fb934d",
   "metadata": {},
   "outputs": [
    {
     "data": {
      "text/plain": [
       "209"
      ]
     },
     "execution_count": 34,
     "metadata": {},
     "output_type": "execute_result"
    }
   ],
   "source": [
    "len(words)"
   ]
  }
 ],
 "metadata": {
  "kernelspec": {
   "display_name": "Python 3 (ipykernel)",
   "language": "python",
   "name": "python3"
  },
  "language_info": {
   "codemirror_mode": {
    "name": "ipython",
    "version": 3
   },
   "file_extension": ".py",
   "mimetype": "text/x-python",
   "name": "python",
   "nbconvert_exporter": "python",
   "pygments_lexer": "ipython3",
   "version": "3.11.5"
  }
 },
 "nbformat": 4,
 "nbformat_minor": 5
}
