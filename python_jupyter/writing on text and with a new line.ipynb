{
 "cells": [
  {
   "cell_type": "code",
   "execution_count": 22,
   "id": "c53a581a",
   "metadata": {},
   "outputs": [
    {
     "name": "stdout",
     "output_type": "stream",
     "text": [
      "Enter the text: dont take it very seriously\n"
     ]
    }
   ],
   "source": [
    "fd=open(\"Dataa.txt\",'a')   #Dataa file has just be created from here #'a' is used to append the text, w for write and r to read\n",
    "txt=input(\"Enter the text: \")\n",
    "txt=txt+'\\n'       #'\\n' is used for new line\n",
    "fd.write(txt)\n",
    "fd.close()  #always close the file"
   ]
  },
  {
   "cell_type": "code",
   "execution_count": null,
   "id": "75da6af2",
   "metadata": {},
   "outputs": [],
   "source": []
  }
 ],
 "metadata": {
  "kernelspec": {
   "display_name": "Python 3 (ipykernel)",
   "language": "python",
   "name": "python3"
  },
  "language_info": {
   "codemirror_mode": {
    "name": "ipython",
    "version": 3
   },
   "file_extension": ".py",
   "mimetype": "text/x-python",
   "name": "python",
   "nbconvert_exporter": "python",
   "pygments_lexer": "ipython3",
   "version": "3.11.5"
  }
 },
 "nbformat": 4,
 "nbformat_minor": 5
}
