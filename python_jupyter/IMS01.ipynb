{
 "cells": [
  {
   "cell_type": "code",
   "execution_count": 3,
   "id": "0ef79bdf",
   "metadata": {},
   "outputs": [],
   "source": [
    "fd=open('IV.txt','w')\n",
    "fd.close()"
   ]
  },
  {
   "cell_type": "markdown",
   "id": "902c57c1",
   "metadata": {},
   "source": [
    "1.Product id\n",
    "2.product name\n",
    "3.price\n",
    "4.quantity\n"
   ]
  },
  {
   "cell_type": "code",
   "execution_count": 15,
   "id": "ca632e2f",
   "metadata": {},
   "outputs": [],
   "source": [
    "fd=open('IV.txt','r')\n",
    "\n",
    "products=fd.read().split('\\n')\n",
    "\n",
    "fd.close()"
   ]
  },
  {
   "cell_type": "code",
   "execution_count": 17,
   "id": "516c5e04",
   "metadata": {},
   "outputs": [
    {
     "name": "stdout",
     "output_type": "stream",
     "text": [
      "['1', 'kitkat', '5', '100']\n",
      "['2', 'biryani', '90', '200']\n",
      "['3', 'pulao', '120', '500']\n",
      "['4', 'doi', '45', '50']\n"
     ]
    }
   ],
   "source": [
    "for i in products:\n",
    "    print(i.split(','))"
   ]
  },
  {
   "cell_type": "code",
   "execution_count": 18,
   "id": "6af02d70",
   "metadata": {},
   "outputs": [
    {
     "name": "stdout",
     "output_type": "stream",
     "text": [
      "1\n",
      "2\n",
      "3\n",
      "4\n"
     ]
    }
   ],
   "source": [
    "for i in products:\n",
    "    print(i.split(',')[0])"
   ]
  },
  {
   "cell_type": "code",
   "execution_count": 19,
   "id": "3654da5d",
   "metadata": {},
   "outputs": [
    {
     "name": "stdout",
     "output_type": "stream",
     "text": [
      "kitkat\n",
      "biryani\n",
      "pulao\n",
      "doi\n"
     ]
    }
   ],
   "source": [
    "for i in products:\n",
    "    print(i.split(',')[1])"
   ]
  },
  {
   "cell_type": "code",
   "execution_count": 22,
   "id": "c3e505b4",
   "metadata": {},
   "outputs": [
    {
     "name": "stdout",
     "output_type": "stream",
     "text": [
      "Enter the product ID:2\n",
      "2,biryani,90,200\n"
     ]
    }
   ],
   "source": [
    "ui_pi=input('Enter the product ID:')\n",
    "for i in products:\n",
    "    if (i.split(',')[0]==ui_pi):\n",
    "        print(i)"
   ]
  },
  {
   "cell_type": "code",
   "execution_count": 53,
   "id": "84f09248",
   "metadata": {},
   "outputs": [
    {
     "name": "stdout",
     "output_type": "stream",
     "text": [
      "Enter the product ID:2\n",
      "Enter the product quantity:4\n",
      "--------------------------------------------------\n",
      "Name              :  biryani\n",
      "Price             :  90\n",
      "Quantity          :  4\n",
      "--------------------------------------------------\n",
      "Billing Amount    :  360\n",
      "--------------------------------------------------\n"
     ]
    }
   ],
   "source": [
    "ui_pi=input('Enter the product ID:')\n",
    "ui_pq=input('Enter the product quantity:')\n",
    "\n",
    "print(\"-\" * 50)\n",
    "\n",
    "updated_prod_lst=[]\n",
    "\n",
    "for i in products:\n",
    "    \n",
    "    prod_details=i.split(',')\n",
    "    \n",
    "    if (prod_details[0]==ui_pi):\n",
    "        print(\"Name              : \", prod_details[1])\n",
    "        print(\"Price             : \",prod_details[2])\n",
    "        print(\"Quantity          : \", ui_pq)\n",
    "        print(\"-\" * 50)\n",
    "        print(\"Billing Amount    : \",str(int(prod_details[2])*int(ui_pq)))\n",
    "        print(\"-\" * 50)\n",
    "        \n",
    "        prod_details[3]=str(int(prod_details[3])-int(ui_pq))\n",
    "    updated_prod_lst.append(prod_details)\n",
    "#     print(prod_details)  \n",
    "\n",
    "        "
   ]
  },
  {
   "cell_type": "code",
   "execution_count": 55,
   "id": "56aa0ec8",
   "metadata": {},
   "outputs": [
    {
     "name": "stdout",
     "output_type": "stream",
     "text": [
      "['1', 'kitkat', '5', '100']\n",
      "['2', 'biryani', '90', '196']\n",
      "['3', 'pulao', '120', '500']\n",
      "['4', 'doi', '45', '50']\n"
     ]
    }
   ],
   "source": [
    "for i in updated_prod_lst:\n",
    "    print(i)"
   ]
  },
  {
   "cell_type": "code",
   "execution_count": 58,
   "id": "6f575766",
   "metadata": {},
   "outputs": [
    {
     "name": "stdout",
     "output_type": "stream",
     "text": [
      "1,kitkat,5,100\n",
      "2,biryani,90,196\n",
      "3,pulao,120,500\n",
      "4,doi,45,50\n"
     ]
    }
   ],
   "source": [
    "for i in updated_prod_lst:\n",
    "    prod= i[0]+','+i[1]+','+i[2]+','+i[3]\n",
    "    print(prod)"
   ]
  },
  {
   "cell_type": "code",
   "execution_count": 61,
   "id": "1a2faed5",
   "metadata": {},
   "outputs": [],
   "source": [
    "fd=open('IV.txt','w')\n",
    "\n",
    "for i in updated_prod_lst:\n",
    "    prod= i[0]+','+i[1]+','+i[2]+','+i[3] +'\\n'\n",
    "    fd.write(prod)\n",
    "fd.close()"
   ]
  },
  {
   "cell_type": "markdown",
   "id": "ab22c2e4",
   "metadata": {},
   "source": [
    "# Final Code"
   ]
  },
  {
   "cell_type": "code",
   "execution_count": 78,
   "id": "4f6a96bd",
   "metadata": {},
   "outputs": [
    {
     "name": "stdout",
     "output_type": "stream",
     "text": [
      "Enter the product ID:1\n",
      "Enter the product quantity:4\n",
      "--------------------------------------------------\n",
      "Name              :  kitkat\n",
      "Price             :  5\n",
      "Quantity          :  4\n",
      "--------------------------------------------------\n",
      "Billing Amount    :  20\n",
      "--------------------------------------------------\n",
      "Name              :  kitkat\n",
      "Price             :  5\n",
      "Quantity          :  4\n",
      "--------------------------------------------------\n",
      "Billing Amount    :  20\n",
      "--------------------------------------------------\n"
     ]
    },
    {
     "ename": "IndexError",
     "evalue": "list index out of range",
     "output_type": "error",
     "traceback": [
      "\u001b[1;31m---------------------------------------------------------------------------\u001b[0m",
      "\u001b[1;31mIndexError\u001b[0m                                Traceback (most recent call last)",
      "Cell \u001b[1;32mIn[78], line 35\u001b[0m\n\u001b[0;32m     32\u001b[0m fd\u001b[38;5;241m=\u001b[39m\u001b[38;5;28mopen\u001b[39m(\u001b[38;5;124m'\u001b[39m\u001b[38;5;124mIV.txt\u001b[39m\u001b[38;5;124m'\u001b[39m,\u001b[38;5;124m'\u001b[39m\u001b[38;5;124mw\u001b[39m\u001b[38;5;124m'\u001b[39m)\n\u001b[0;32m     34\u001b[0m \u001b[38;5;28;01mfor\u001b[39;00m i \u001b[38;5;129;01min\u001b[39;00m updated_prod_lst:\n\u001b[1;32m---> 35\u001b[0m     prod\u001b[38;5;241m=\u001b[39m i[\u001b[38;5;241m0\u001b[39m]\u001b[38;5;241m+\u001b[39m\u001b[38;5;124m'\u001b[39m\u001b[38;5;124m,\u001b[39m\u001b[38;5;124m'\u001b[39m\u001b[38;5;241m+\u001b[39mi[\u001b[38;5;241m1\u001b[39m]\u001b[38;5;241m+\u001b[39m\u001b[38;5;124m'\u001b[39m\u001b[38;5;124m,\u001b[39m\u001b[38;5;124m'\u001b[39m\u001b[38;5;241m+\u001b[39mi[\u001b[38;5;241m2\u001b[39m]\u001b[38;5;241m+\u001b[39m\u001b[38;5;124m'\u001b[39m\u001b[38;5;124m,\u001b[39m\u001b[38;5;124m'\u001b[39m\u001b[38;5;241m+\u001b[39mi[\u001b[38;5;241m3\u001b[39m]\u001b[38;5;241m+\u001b[39m\u001b[38;5;124m'\u001b[39m\u001b[38;5;130;01m\\n\u001b[39;00m\u001b[38;5;124m'\u001b[39m\n\u001b[0;32m     36\u001b[0m     fd\u001b[38;5;241m.\u001b[39mwrite(prod)\n\u001b[0;32m     38\u001b[0m fd\u001b[38;5;241m.\u001b[39mclose()\n",
      "\u001b[1;31mIndexError\u001b[0m: list index out of range"
     ]
    }
   ],
   "source": [
    "fd=open('IV.txt','r')\n",
    "products=fd.read().split('\\n')\n",
    "fd.close()\n",
    "\n",
    "\n",
    "ui_pi=input('Enter the product ID:')\n",
    "ui_pq=input('Enter the product quantity:')\n",
    "\n",
    "print(\"-\" * 50)\n",
    "\n",
    "updated_prod_lst=[]\n",
    "\n",
    "for i in products:\n",
    "    \n",
    "    prod_details=i.split(',')\n",
    "    \n",
    "    if (prod_details[0]==ui_pi):\n",
    "        print(\"Name              : \", prod_details[1])\n",
    "        print(\"Price             : \",prod_details[2])\n",
    "        print(\"Quantity          : \", ui_pq)\n",
    "        print(\"-\" * 50)\n",
    "        print(\"Billing Amount    : \",str(int(prod_details[2])*int(ui_pq)))\n",
    "        print(\"-\" * 50)\n",
    "        \n",
    "        prod_details[3]=str(int(prod_details[3])-int(ui_pq))\n",
    "    updated_prod_lst.append(prod_details)\n",
    "#     print(prod_details)  \n",
    "\n",
    "        \n",
    "    \n",
    "    \n",
    "\n",
    "lst=[]\n",
    "\n",
    "for i in updated_prod_lst:\n",
    "    prod= i[0]+','+i[1]+','+i[2]+','+i[3]+'\\n'\n",
    "    lst.append(prod)\n",
    "\n",
    "fd=open('IV.txt','w')\n",
    "fd.close()"
   ]
  },
  {
   "cell_type": "code",
   "execution_count": 74,
   "id": "e900a0bf",
   "metadata": {},
   "outputs": [
    {
     "data": {
      "text/plain": [
       "[['1', 'kitkat', '5', '1002'], ['1', 'kitkat', '5', '1002'], ['']]"
      ]
     },
     "execution_count": 74,
     "metadata": {},
     "output_type": "execute_result"
    }
   ],
   "source": [
    "updated_prod_lst"
   ]
  }
 ],
 "metadata": {
  "kernelspec": {
   "display_name": "Python 3 (ipykernel)",
   "language": "python",
   "name": "python3"
  },
  "language_info": {
   "codemirror_mode": {
    "name": "ipython",
    "version": 3
   },
   "file_extension": ".py",
   "mimetype": "text/x-python",
   "name": "python",
   "nbconvert_exporter": "python",
   "pygments_lexer": "ipython3",
   "version": "3.11.5"
  }
 },
 "nbformat": 4,
 "nbformat_minor": 5
}
