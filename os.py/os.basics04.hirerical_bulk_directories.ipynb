{
 "cells": [
  {
   "cell_type": "code",
   "execution_count": 1,
   "id": "83c48d94",
   "metadata": {},
   "outputs": [],
   "source": [
    "import os"
   ]
  },
  {
   "cell_type": "markdown",
   "id": "1f20ebeb",
   "metadata": {},
   "source": [
    "gfg\n",
    "    ->gfg1\n",
    "        ->gfg1\n",
    "        ->gfg2\n",
    "        ->gfg3\n",
    "    ->gfg2\n",
    "        ->gfg1\n",
    "        ->gfg2\n",
    "        ->gfg3\n",
    "    ->gfg1\n",
    "        ->gfg1\n",
    "        ->gfg2\n",
    "        ->gfg3\n",
    "        \n",
    "        this is the basic idea"
   ]
  },
  {
   "cell_type": "code",
   "execution_count": 16,
   "id": "72e119dd",
   "metadata": {},
   "outputs": [],
   "source": [
    "master='gfg'\n",
    "os.mkdir(master)\n",
    "\n",
    "for i in range(1,11):\n",
    "    name=master + '/' + master +\" \"+ str(i)\n",
    "    os.mkdir(name)\n",
    "    \n",
    "    for j in range(1,6):\n",
    "        name=master + '/' + master +\" \"+str(i) + '/' + master +\" \"+ str(j)\n",
    "        os.mkdir(name)\n",
    "        "
   ]
  },
  {
   "cell_type": "code",
   "execution_count": null,
   "id": "83aee845",
   "metadata": {},
   "outputs": [],
   "source": []
  }
 ],
 "metadata": {
  "kernelspec": {
   "display_name": "Python 3 (ipykernel)",
   "language": "python",
   "name": "python3"
  },
  "language_info": {
   "codemirror_mode": {
    "name": "ipython",
    "version": 3
   },
   "file_extension": ".py",
   "mimetype": "text/x-python",
   "name": "python",
   "nbconvert_exporter": "python",
   "pygments_lexer": "ipython3",
   "version": "3.11.5"
  }
 },
 "nbformat": 4,
 "nbformat_minor": 5
}
