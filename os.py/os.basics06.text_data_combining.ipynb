{
 "cells": [
  {
   "cell_type": "code",
   "execution_count": 1,
   "id": "b5473daa",
   "metadata": {},
   "outputs": [],
   "source": [
    "import os"
   ]
  },
  {
   "cell_type": "code",
   "execution_count": 2,
   "id": "a9b5ea4e",
   "metadata": {},
   "outputs": [],
   "source": [
    "readf=os.listdir('read')"
   ]
  },
  {
   "cell_type": "code",
   "execution_count": 3,
   "id": "5b673245",
   "metadata": {},
   "outputs": [
    {
     "data": {
      "text/plain": [
       "['a.txt', 'b.txt', 'c.txt']"
      ]
     },
     "execution_count": 3,
     "metadata": {},
     "output_type": "execute_result"
    }
   ],
   "source": [
    "readf"
   ]
  },
  {
   "cell_type": "code",
   "execution_count": 4,
   "id": "16d55b4b",
   "metadata": {},
   "outputs": [
    {
     "name": "stdout",
     "output_type": "stream",
     "text": [
      "read/a.txt read the a\n",
      "read/b.txt read the b\n",
      "read/c.txt read the c\n"
     ]
    }
   ],
   "source": [
    "for i in readf:\n",
    "    fd=open('read/'+i,'r')\n",
    "    print('read/'+i, fd.read())\n",
    "    fd.close()"
   ]
  },
  {
   "cell_type": "code",
   "execution_count": 7,
   "id": "92c3b98f",
   "metadata": {},
   "outputs": [],
   "source": [
    "fd=open('data.txt', 'a')   #a=append\n",
    "fd.write(\"hello world\")\n",
    "fd.close()        "
   ]
  },
  {
   "cell_type": "code",
   "execution_count": 13,
   "id": "7a6b6693",
   "metadata": {},
   "outputs": [],
   "source": [
    "fd_write=open('data.txt', 'a')   #a=append\n",
    "\n",
    "for i in readf:\n",
    "    fd_read=open('read/'+i,'r')\n",
    "    fd_write.write(fd_read.read()) \n",
    "    fd_write.write('\\n')\n",
    "    fd_read.close()\n",
    "    \n",
    "fd_write.close()"
   ]
  }
 ],
 "metadata": {
  "kernelspec": {
   "display_name": "Python 3 (ipykernel)",
   "language": "python",
   "name": "python3"
  },
  "language_info": {
   "codemirror_mode": {
    "name": "ipython",
    "version": 3
   },
   "file_extension": ".py",
   "mimetype": "text/x-python",
   "name": "python",
   "nbconvert_exporter": "python",
   "pygments_lexer": "ipython3",
   "version": "3.11.5"
  }
 },
 "nbformat": 4,
 "nbformat_minor": 5
}
