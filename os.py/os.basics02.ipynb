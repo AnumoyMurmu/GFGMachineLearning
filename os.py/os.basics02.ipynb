{
 "cells": [
  {
   "cell_type": "code",
   "execution_count": 1,
   "id": "bcb7ad27",
   "metadata": {},
   "outputs": [],
   "source": [
    "import os"
   ]
  },
  {
   "cell_type": "code",
   "execution_count": 2,
   "id": "e75df694",
   "metadata": {},
   "outputs": [
    {
     "data": {
      "text/plain": [
       "'C:\\\\Users\\\\majhi\\\\Desktop'"
      ]
     },
     "execution_count": 2,
     "metadata": {},
     "output_type": "execute_result"
    }
   ],
   "source": [
    "os.getcwd()      #working directory"
   ]
  },
  {
   "cell_type": "code",
   "execution_count": 3,
   "id": "179421ed",
   "metadata": {},
   "outputs": [
    {
     "data": {
      "text/plain": [
       "'C:\\\\Users\\\\majhi\\\\Desktop'"
      ]
     },
     "execution_count": 3,
     "metadata": {},
     "output_type": "execute_result"
    }
   ],
   "source": [
    "pwd"
   ]
  },
  {
   "cell_type": "code",
   "execution_count": 4,
   "id": "47079ecc",
   "metadata": {},
   "outputs": [
    {
     "name": "stdout",
     "output_type": "stream",
     "text": [
      " Volume in drive C is OS\n",
      " Volume Serial Number is ACE5-48E1\n",
      "\n",
      " Directory of C:\\Users\\majhi\\Desktop\n",
      "\n",
      "03/09/2024  08:51 AM    <DIR>          .\n",
      "03/08/2024  08:49 PM    <DIR>          ..\n",
      "03/09/2024  08:51 AM    <DIR>          .ipynb_checkpoints\n",
      "02/17/2024  07:40 PM             2,035 Anaconda Navigator.lnk\n",
      "02/18/2024  05:21 PM             3,733 ass0002.txt\n",
      "03/08/2024  11:20 PM    <DIR>          file1\n",
      "03/08/2024  11:17 PM    <DIR>          gfg\n",
      "02/26/2024  06:34 PM    <DIR>          Inventory Management System\n",
      "02/18/2024  05:21 PM    <DIR>          New folder (2)\n",
      "03/09/2024  08:46 AM             5,261 os.basics01.ipynb\n",
      "03/09/2024  08:51 AM               589 os.basics02.ipynb\n",
      "02/26/2024  06:34 PM    <DIR>          python_jupyter\n",
      "11/29/2023  09:51 PM             1,416 VS Code.lnk\n",
      "03/08/2024  09:30 PM             1,933 Zoom.lnk\n",
      "               6 File(s)         14,967 bytes\n",
      "               8 Dir(s)  213,493,043,200 bytes free\n"
     ]
    }
   ],
   "source": [
    "ls"
   ]
  },
  {
   "cell_type": "code",
   "execution_count": 11,
   "id": "f3bde1c6",
   "metadata": {},
   "outputs": [],
   "source": [
    "os.remove('a.txt')   #removes the exsiting txt file"
   ]
  },
  {
   "cell_type": "code",
   "execution_count": 12,
   "id": "2bb6a06b",
   "metadata": {},
   "outputs": [],
   "source": [
    "os.rmdir('gfg')    #removes the gfg file"
   ]
  },
  {
   "cell_type": "code",
   "execution_count": 13,
   "id": "837c0126",
   "metadata": {},
   "outputs": [],
   "source": [
    "os.rmdir('file1/file2')    #removes the file2 which was inside file1"
   ]
  },
  {
   "cell_type": "code",
   "execution_count": 14,
   "id": "e95ea5c9",
   "metadata": {},
   "outputs": [],
   "source": [
    "os.rmdir('file1')        #then removes file1, wont be able to remove main file without deleteting files inside it"
   ]
  },
  {
   "cell_type": "code",
   "execution_count": 16,
   "id": "7b8d915c",
   "metadata": {},
   "outputs": [
    {
     "data": {
      "text/plain": [
       "['.ipynb_checkpoints',\n",
       " 'Anaconda Navigator.lnk',\n",
       " 'ass0002.txt',\n",
       " 'desktop.ini',\n",
       " 'Inventory Management System',\n",
       " 'New folder (2)',\n",
       " 'os.basics01.ipynb',\n",
       " 'os.basics02.ipynb',\n",
       " 'python_jupyter',\n",
       " 'VS Code.lnk',\n",
       " 'Zoom.lnk']"
      ]
     },
     "execution_count": 16,
     "metadata": {},
     "output_type": "execute_result"
    }
   ],
   "source": [
    "os.listdir()   #listing the files of current directories"
   ]
  },
  {
   "cell_type": "code",
   "execution_count": 17,
   "id": "5f6b30ba",
   "metadata": {},
   "outputs": [
    {
     "data": {
      "text/plain": [
       "['.ipynb_checkpoints',\n",
       " 'IMS01.ipynb',\n",
       " 'Inventory Management lec02.ipynb',\n",
       " 'Inventory.txt',\n",
       " 'IV.txt']"
      ]
     },
     "execution_count": 17,
     "metadata": {},
     "output_type": "execute_result"
    }
   ],
   "source": [
    "os.listdir('Inventory Management System')      #lists the files we have inside \"Inventory Management System\""
   ]
  },
  {
   "cell_type": "code",
   "execution_count": 22,
   "id": "2c59047d",
   "metadata": {},
   "outputs": [
    {
     "name": "stdout",
     "output_type": "stream",
     "text": [
      ".ipynb_checkpoints\n",
      "demo file\n",
      "IMS01.ipynb\n",
      "Inventory Management lec02.ipynb\n",
      "Inventory.txt\n"
     ]
    }
   ],
   "source": [
    "for i in os.listdir('Inventory Management System'):\n",
    "    if i!='IV.txt':\n",
    "         print(i)"
   ]
  },
  {
   "cell_type": "code",
   "execution_count": 23,
   "id": "8801c579",
   "metadata": {},
   "outputs": [],
   "source": [
    "os.rename('Inventory Management System/demo file','dummy file')"
   ]
  },
  {
   "cell_type": "code",
   "execution_count": 24,
   "id": "e78518f0",
   "metadata": {},
   "outputs": [],
   "source": [
    "os.rename('Inventory Management System','inventory.management.system')     #renames the file"
   ]
  },
  {
   "cell_type": "code",
   "execution_count": 25,
   "id": "e79d82de",
   "metadata": {},
   "outputs": [
    {
     "data": {
      "text/plain": [
       "True"
      ]
     },
     "execution_count": 25,
     "metadata": {},
     "output_type": "execute_result"
    }
   ],
   "source": [
    "os.path.exists('inventory.management.system')   #checks if the path or file exists"
   ]
  },
  {
   "cell_type": "code",
   "execution_count": 26,
   "id": "e01c594d",
   "metadata": {},
   "outputs": [
    {
     "data": {
      "text/plain": [
       "False"
      ]
     },
     "execution_count": 26,
     "metadata": {},
     "output_type": "execute_result"
    }
   ],
   "source": [
    "os.path.exists('Inventory Management System')"
   ]
  },
  {
   "cell_type": "code",
   "execution_count": 27,
   "id": "52f19dc2",
   "metadata": {},
   "outputs": [],
   "source": [
    "if os.path.exists('inventory.management.system/operating system mini'):\n",
    "    print(\"it exissts\")\n",
    "else:\n",
    "    os.mkdir('inventory.management.system/operating system mini')       #this one is cool"
   ]
  },
  {
   "cell_type": "code",
   "execution_count": 28,
   "id": "6af3a679",
   "metadata": {},
   "outputs": [
    {
     "name": "stdout",
     "output_type": "stream",
     "text": [
      "it exissts\n"
     ]
    }
   ],
   "source": [
    "if os.path.exists('inventory.management.system/operating system mini'):\n",
    "    print(\"it exissts\")\n",
    "else:\n",
    "    os.mkdir('inventory.management.system/operating system mini')       #this one is cool"
   ]
  },
  {
   "cell_type": "code",
   "execution_count": 29,
   "id": "5cf3f35b",
   "metadata": {},
   "outputs": [
    {
     "data": {
      "text/plain": [
       "4096"
      ]
     },
     "execution_count": 29,
     "metadata": {},
     "output_type": "execute_result"
    }
   ],
   "source": [
    "os.path.getsize('inventory.management.system')    #returns the size in byte"
   ]
  },
  {
   "cell_type": "code",
   "execution_count": null,
   "id": "51c52ed0",
   "metadata": {},
   "outputs": [],
   "source": []
  }
 ],
 "metadata": {
  "kernelspec": {
   "display_name": "Python 3 (ipykernel)",
   "language": "python",
   "name": "python3"
  },
  "language_info": {
   "codemirror_mode": {
    "name": "ipython",
    "version": 3
   },
   "file_extension": ".py",
   "mimetype": "text/x-python",
   "name": "python",
   "nbconvert_exporter": "python",
   "pygments_lexer": "ipython3",
   "version": "3.11.5"
  }
 },
 "nbformat": 4,
 "nbformat_minor": 5
}
