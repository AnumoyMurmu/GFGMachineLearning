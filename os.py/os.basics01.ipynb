{
 "cells": [
  {
   "cell_type": "code",
   "execution_count": 3,
   "id": "6816bc3b",
   "metadata": {},
   "outputs": [],
   "source": [
    "import os"
   ]
  },
  {
   "cell_type": "code",
   "execution_count": 4,
   "id": "a5b7c31f",
   "metadata": {},
   "outputs": [
    {
     "data": {
      "text/plain": [
       "'C:\\\\Users\\\\majhi\\\\Desktop'"
      ]
     },
     "execution_count": 4,
     "metadata": {},
     "output_type": "execute_result"
    }
   ],
   "source": [
    "os.getcwd() #gives current working directory"
   ]
  },
  {
   "cell_type": "code",
   "execution_count": 5,
   "id": "aa233d13",
   "metadata": {},
   "outputs": [
    {
     "data": {
      "text/plain": [
       "'C:\\\\Users\\\\majhi\\\\Desktop'"
      ]
     },
     "execution_count": 5,
     "metadata": {},
     "output_type": "execute_result"
    }
   ],
   "source": [
    "pwd"
   ]
  },
  {
   "cell_type": "code",
   "execution_count": 6,
   "id": "95499015",
   "metadata": {},
   "outputs": [
    {
     "name": "stdout",
     "output_type": "stream",
     "text": [
      " Volume in drive C is OS\n",
      " Volume Serial Number is ACE5-48E1\n",
      "\n",
      " Directory of C:\\Users\\majhi\\Desktop\n",
      "\n",
      "03/08/2024  11:08 PM    <DIR>          .\n",
      "03/08/2024  08:49 PM    <DIR>          ..\n",
      "03/08/2024  11:07 PM    <DIR>          .ipynb_checkpoints\n",
      "02/17/2024  07:40 PM             2,035 Anaconda Navigator.lnk\n",
      "02/18/2024  05:21 PM             3,733 ass0002.txt\n",
      "02/26/2024  06:34 PM    <DIR>          Inventory Management System\n",
      "02/18/2024  05:21 PM    <DIR>          New folder (2)\n",
      "03/08/2024  11:08 PM             1,435 os.basics.ipynb\n",
      "02/26/2024  06:34 PM    <DIR>          python_jupyter\n",
      "11/29/2023  09:51 PM             1,416 VS Code.lnk\n",
      "03/08/2024  09:30 PM             1,933 Zoom.lnk\n",
      "               5 File(s)         10,552 bytes\n",
      "               6 Dir(s)  213,055,455,232 bytes free\n"
     ]
    }
   ],
   "source": [
    "ls"
   ]
  },
  {
   "cell_type": "code",
   "execution_count": 7,
   "id": "c3d49300",
   "metadata": {},
   "outputs": [],
   "source": [
    "os.chdir(\"New folder (2)\")   #changes your current wokring directory or go inside a folder"
   ]
  },
  {
   "cell_type": "code",
   "execution_count": 8,
   "id": "aaef824c",
   "metadata": {},
   "outputs": [
    {
     "data": {
      "text/plain": [
       "'C:\\\\Users\\\\majhi\\\\Desktop\\\\New folder (2)'"
      ]
     },
     "execution_count": 8,
     "metadata": {},
     "output_type": "execute_result"
    }
   ],
   "source": [
    "os.getcwd()"
   ]
  },
  {
   "cell_type": "code",
   "execution_count": 9,
   "id": "fb6e1595",
   "metadata": {},
   "outputs": [
    {
     "name": "stdout",
     "output_type": "stream",
     "text": [
      " Volume in drive C is OS\n",
      " Volume Serial Number is ACE5-48E1\n",
      "\n",
      " Directory of C:\\Users\\majhi\\Desktop\\New folder (2)\n",
      "\n",
      "02/18/2024  05:21 PM    <DIR>          .\n",
      "03/08/2024  11:14 PM    <DIR>          ..\n",
      "               0 File(s)              0 bytes\n",
      "               2 Dir(s)  213,039,337,472 bytes free\n"
     ]
    }
   ],
   "source": [
    "ls"
   ]
  },
  {
   "cell_type": "code",
   "execution_count": 10,
   "id": "f26727e8",
   "metadata": {},
   "outputs": [],
   "source": [
    "os.chdir(\"../\")   #this is to go back to previous directory"
   ]
  },
  {
   "cell_type": "code",
   "execution_count": 13,
   "id": "b8328d68",
   "metadata": {},
   "outputs": [
    {
     "data": {
      "text/plain": [
       "'C:\\\\Users\\\\majhi\\\\Desktop'"
      ]
     },
     "execution_count": 13,
     "metadata": {},
     "output_type": "execute_result"
    }
   ],
   "source": [
    "os.getcwd()"
   ]
  },
  {
   "cell_type": "code",
   "execution_count": 14,
   "id": "b832d45a",
   "metadata": {},
   "outputs": [],
   "source": [
    "os.mkdir(\"gfg\")   #creates a directory"
   ]
  },
  {
   "cell_type": "code",
   "execution_count": 18,
   "id": "11a64cf7",
   "metadata": {},
   "outputs": [],
   "source": [
    "os.makedirs(\"file1/file2/file3\")   #creates directories inside directory in an hierachal order"
   ]
  },
  {
   "cell_type": "code",
   "execution_count": 19,
   "id": "b29013b0",
   "metadata": {},
   "outputs": [
    {
     "data": {
      "text/plain": [
       "'file1\\\\file2'"
      ]
     },
     "execution_count": 19,
     "metadata": {},
     "output_type": "execute_result"
    }
   ],
   "source": [
    "os.path.join(\"file1\",\"file2\")"
   ]
  },
  {
   "cell_type": "code",
   "execution_count": null,
   "id": "de808952",
   "metadata": {},
   "outputs": [],
   "source": []
  }
 ],
 "metadata": {
  "kernelspec": {
   "display_name": "Python 3 (ipykernel)",
   "language": "python",
   "name": "python3"
  },
  "language_info": {
   "codemirror_mode": {
    "name": "ipython",
    "version": 3
   },
   "file_extension": ".py",
   "mimetype": "text/x-python",
   "name": "python",
   "nbconvert_exporter": "python",
   "pygments_lexer": "ipython3",
   "version": "3.11.5"
  }
 },
 "nbformat": 4,
 "nbformat_minor": 5
}
