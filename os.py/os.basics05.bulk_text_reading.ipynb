{
 "cells": [
  {
   "cell_type": "code",
   "execution_count": 1,
   "id": "f572673e",
   "metadata": {},
   "outputs": [],
   "source": [
    "import os"
   ]
  },
  {
   "cell_type": "code",
   "execution_count": 13,
   "id": "65bad58a",
   "metadata": {},
   "outputs": [],
   "source": [
    "readf=os.listdir('read')"
   ]
  },
  {
   "cell_type": "code",
   "execution_count": 14,
   "id": "9852f5f3",
   "metadata": {},
   "outputs": [
    {
     "data": {
      "text/plain": [
       "['a.txt', 'b.txt', 'c.txt']"
      ]
     },
     "execution_count": 14,
     "metadata": {},
     "output_type": "execute_result"
    }
   ],
   "source": [
    "readf"
   ]
  },
  {
   "cell_type": "code",
   "execution_count": 15,
   "id": "1aa7110d",
   "metadata": {},
   "outputs": [
    {
     "data": {
      "text/plain": [
       "3"
      ]
     },
     "execution_count": 15,
     "metadata": {},
     "output_type": "execute_result"
    }
   ],
   "source": [
    "len(readf)"
   ]
  },
  {
   "cell_type": "code",
   "execution_count": 16,
   "id": "51abfe48",
   "metadata": {},
   "outputs": [
    {
     "data": {
      "text/plain": [
       "list"
      ]
     },
     "execution_count": 16,
     "metadata": {},
     "output_type": "execute_result"
    }
   ],
   "source": [
    "type(readf)"
   ]
  },
  {
   "cell_type": "code",
   "execution_count": 17,
   "id": "cfdb0ac3",
   "metadata": {},
   "outputs": [
    {
     "name": "stdout",
     "output_type": "stream",
     "text": [
      "a.txt\n",
      "b.txt\n",
      "c.txt\n"
     ]
    }
   ],
   "source": [
    "for i in readf:\n",
    "    print(i)"
   ]
  },
  {
   "cell_type": "code",
   "execution_count": 19,
   "id": "2ea08a41",
   "metadata": {},
   "outputs": [
    {
     "name": "stdout",
     "output_type": "stream",
     "text": [
      "read the a\n"
     ]
    }
   ],
   "source": [
    "fd=open('read/a.txt','r')\n",
    "print(fd.read())\n",
    "fd.close()"
   ]
  },
  {
   "cell_type": "code",
   "execution_count": 25,
   "id": "153f1312",
   "metadata": {},
   "outputs": [
    {
     "name": "stdout",
     "output_type": "stream",
     "text": [
      "read the a\n",
      "read the b\n",
      "read the c\n"
     ]
    }
   ],
   "source": [
    "for i in readf:\n",
    "    fd=open('read/'+i,'r')\n",
    "    print(fd.read())\n",
    "    fd.close()"
   ]
  },
  {
   "cell_type": "code",
   "execution_count": 26,
   "id": "d587330e",
   "metadata": {},
   "outputs": [
    {
     "name": "stdout",
     "output_type": "stream",
     "text": [
      "read/a.txt read the a\n",
      "read/b.txt read the b\n",
      "read/c.txt read the c\n"
     ]
    }
   ],
   "source": [
    "for i in readf:\n",
    "    fd=open('read/'+i,'r')\n",
    "    print('read/'+i, fd.read())\n",
    "    fd.close()"
   ]
  }
 ],
 "metadata": {
  "kernelspec": {
   "display_name": "Python 3 (ipykernel)",
   "language": "python",
   "name": "python3"
  },
  "language_info": {
   "codemirror_mode": {
    "name": "ipython",
    "version": 3
   },
   "file_extension": ".py",
   "mimetype": "text/x-python",
   "name": "python",
   "nbconvert_exporter": "python",
   "pygments_lexer": "ipython3",
   "version": "3.11.5"
  }
 },
 "nbformat": 4,
 "nbformat_minor": 5
}
