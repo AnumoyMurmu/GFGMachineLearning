{
  "nbformat": 4,
  "nbformat_minor": 0,
  "metadata": {
    "colab": {
      "provenance": []
    },
    "kernelspec": {
      "name": "python3",
      "display_name": "Python 3"
    },
    "language_info": {
      "name": "python"
    }
  },
  "cells": [
    {
      "cell_type": "code",
      "execution_count": 1,
      "metadata": {
        "id": "7uGyS_XJ_UJx"
      },
      "outputs": [],
      "source": [
        "import numpy as np"
      ]
    },
    {
      "cell_type": "code",
      "source": [
        "np.random.random((3,3))"
      ],
      "metadata": {
        "colab": {
          "base_uri": "https://localhost:8080/"
        },
        "id": "N6G3ES6P_has",
        "outputId": "cd8d17b0-fa7b-4e31-bcd9-0455b347f4c8"
      },
      "execution_count": 3,
      "outputs": [
        {
          "output_type": "execute_result",
          "data": {
            "text/plain": [
              "array([[0.52800868, 0.10129157, 0.13311902],\n",
              "       [0.57543749, 0.70741601, 0.26731116],\n",
              "       [0.23417787, 0.04530464, 0.71676807]])"
            ]
          },
          "metadata": {},
          "execution_count": 3
        }
      ]
    },
    {
      "cell_type": "code",
      "source": [
        "np.random.random((3,3))"
      ],
      "metadata": {
        "colab": {
          "base_uri": "https://localhost:8080/"
        },
        "id": "Ldp6s3qO_uI8",
        "outputId": "abca4f4c-025d-4c55-eafe-72061b055c54"
      },
      "execution_count": 6,
      "outputs": [
        {
          "output_type": "execute_result",
          "data": {
            "text/plain": [
              "array([[0.8152962 , 0.41138913, 0.07244697],\n",
              "       [0.21023482, 0.37103143, 0.76262912],\n",
              "       [0.15861951, 0.34174681, 0.44611411]])"
            ]
          },
          "metadata": {},
          "execution_count": 6
        }
      ]
    },
    {
      "cell_type": "code",
      "source": [
        "np.random.random()"
      ],
      "metadata": {
        "colab": {
          "base_uri": "https://localhost:8080/"
        },
        "id": "UQ5-95JxAOvA",
        "outputId": "981390eb-3acf-494c-f377-4d6b2f940d31"
      },
      "execution_count": 7,
      "outputs": [
        {
          "output_type": "execute_result",
          "data": {
            "text/plain": [
              "0.2484083192856773"
            ]
          },
          "metadata": {},
          "execution_count": 7
        }
      ]
    },
    {
      "cell_type": "code",
      "source": [
        "if np.random.random() > 0.5:\n",
        "  print(\"run the function\")\n",
        "else:\n",
        "  print(\"dont run the function\")"
      ],
      "metadata": {
        "colab": {
          "base_uri": "https://localhost:8080/"
        },
        "id": "ytfNrWdl_1cv",
        "outputId": "526d4404-5ac5-405e-f245-0ee2ff0a7b67"
      },
      "execution_count": 5,
      "outputs": [
        {
          "output_type": "stream",
          "name": "stdout",
          "text": [
            "run the function\n"
          ]
        }
      ]
    },
    {
      "cell_type": "code",
      "source": [
        "np.arange(1,11,1)"
      ],
      "metadata": {
        "colab": {
          "base_uri": "https://localhost:8080/"
        },
        "id": "9WMiKiNbAJoo",
        "outputId": "9a2ad461-28e6-4aa8-9b46-ba112c3a2dd5"
      },
      "execution_count": 13,
      "outputs": [
        {
          "output_type": "execute_result",
          "data": {
            "text/plain": [
              "array([ 1,  2,  3,  4,  5,  6,  7,  8,  9, 10])"
            ]
          },
          "metadata": {},
          "execution_count": 13
        }
      ]
    },
    {
      "cell_type": "code",
      "source": [
        "#equal distance  #(starting,difference b/w numbers, ending)\n",
        "np.linspace(1,2,100)"
      ],
      "metadata": {
        "colab": {
          "base_uri": "https://localhost:8080/"
        },
        "id": "qsaV_6PIA3FH",
        "outputId": "7f3b21d1-9705-4d75-e3ba-968ab5b4c05f"
      },
      "execution_count": 21,
      "outputs": [
        {
          "output_type": "execute_result",
          "data": {
            "text/plain": [
              "array([1.        , 1.01010101, 1.02020202, 1.03030303, 1.04040404,\n",
              "       1.05050505, 1.06060606, 1.07070707, 1.08080808, 1.09090909,\n",
              "       1.1010101 , 1.11111111, 1.12121212, 1.13131313, 1.14141414,\n",
              "       1.15151515, 1.16161616, 1.17171717, 1.18181818, 1.19191919,\n",
              "       1.2020202 , 1.21212121, 1.22222222, 1.23232323, 1.24242424,\n",
              "       1.25252525, 1.26262626, 1.27272727, 1.28282828, 1.29292929,\n",
              "       1.3030303 , 1.31313131, 1.32323232, 1.33333333, 1.34343434,\n",
              "       1.35353535, 1.36363636, 1.37373737, 1.38383838, 1.39393939,\n",
              "       1.4040404 , 1.41414141, 1.42424242, 1.43434343, 1.44444444,\n",
              "       1.45454545, 1.46464646, 1.47474747, 1.48484848, 1.49494949,\n",
              "       1.50505051, 1.51515152, 1.52525253, 1.53535354, 1.54545455,\n",
              "       1.55555556, 1.56565657, 1.57575758, 1.58585859, 1.5959596 ,\n",
              "       1.60606061, 1.61616162, 1.62626263, 1.63636364, 1.64646465,\n",
              "       1.65656566, 1.66666667, 1.67676768, 1.68686869, 1.6969697 ,\n",
              "       1.70707071, 1.71717172, 1.72727273, 1.73737374, 1.74747475,\n",
              "       1.75757576, 1.76767677, 1.77777778, 1.78787879, 1.7979798 ,\n",
              "       1.80808081, 1.81818182, 1.82828283, 1.83838384, 1.84848485,\n",
              "       1.85858586, 1.86868687, 1.87878788, 1.88888889, 1.8989899 ,\n",
              "       1.90909091, 1.91919192, 1.92929293, 1.93939394, 1.94949495,\n",
              "       1.95959596, 1.96969697, 1.97979798, 1.98989899, 2.        ])"
            ]
          },
          "metadata": {},
          "execution_count": 21
        }
      ]
    },
    {
      "cell_type": "code",
      "source": [
        "arr=np.random.random((4,3))"
      ],
      "metadata": {
        "id": "lHuSxOLKBchr"
      },
      "execution_count": 22,
      "outputs": []
    },
    {
      "cell_type": "code",
      "source": [
        "arr"
      ],
      "metadata": {
        "colab": {
          "base_uri": "https://localhost:8080/"
        },
        "id": "8l2mL9ZbCNfb",
        "outputId": "20062580-e712-4f00-8ab7-a3c13337de58"
      },
      "execution_count": 23,
      "outputs": [
        {
          "output_type": "execute_result",
          "data": {
            "text/plain": [
              "array([[0.79564914, 0.58765145, 0.72042606],\n",
              "       [0.0478516 , 0.2612333 , 0.85889853],\n",
              "       [0.89014598, 0.91334471, 0.99459989],\n",
              "       [0.73435806, 0.49004842, 0.69511833]])"
            ]
          },
          "metadata": {},
          "execution_count": 23
        }
      ]
    },
    {
      "cell_type": "markdown",
      "source": [
        "if reshaping an array from size (3,4) always remember the new value row*col should be equal to new size of array.\n",
        "\n",
        "i.e (3,4)=(4,3)=(6,2)=(12,1)=(2,6)=(1,12)"
      ],
      "metadata": {
        "id": "uSgYpgUVDCuk"
      }
    },
    {
      "cell_type": "code",
      "source": [
        "arr = np.reshape(arr, (3,4))"
      ],
      "metadata": {
        "id": "nwdPTkpfCOhc"
      },
      "execution_count": 28,
      "outputs": []
    },
    {
      "cell_type": "code",
      "source": [
        "arr"
      ],
      "metadata": {
        "colab": {
          "base_uri": "https://localhost:8080/"
        },
        "id": "G2Bqco3zCTw9",
        "outputId": "4fc97d5f-3b8c-4b7f-bc20-9541621e48a3"
      },
      "execution_count": 30,
      "outputs": [
        {
          "output_type": "execute_result",
          "data": {
            "text/plain": [
              "array([[0.79564914, 0.58765145, 0.72042606, 0.0478516 ],\n",
              "       [0.2612333 , 0.85889853, 0.89014598, 0.91334471],\n",
              "       [0.99459989, 0.73435806, 0.49004842, 0.69511833]])"
            ]
          },
          "metadata": {},
          "execution_count": 30
        }
      ]
    },
    {
      "cell_type": "code",
      "source": [
        "#changes any dimension array to 1 dimension array\n",
        "arr.flatten()"
      ],
      "metadata": {
        "colab": {
          "base_uri": "https://localhost:8080/"
        },
        "id": "P-33eMV0CrML",
        "outputId": "a8d0e37a-d41a-4533-da24-d9fab808668e"
      },
      "execution_count": 31,
      "outputs": [
        {
          "output_type": "execute_result",
          "data": {
            "text/plain": [
              "array([0.79564914, 0.58765145, 0.72042606, 0.0478516 , 0.2612333 ,\n",
              "       0.85889853, 0.89014598, 0.91334471, 0.99459989, 0.73435806,\n",
              "       0.49004842, 0.69511833])"
            ]
          },
          "metadata": {},
          "execution_count": 31
        }
      ]
    },
    {
      "cell_type": "code",
      "source": [],
      "metadata": {
        "id": "08BAAxauDtJh"
      },
      "execution_count": null,
      "outputs": []
    }
  ]
}