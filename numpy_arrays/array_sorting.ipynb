{
  "nbformat": 4,
  "nbformat_minor": 0,
  "metadata": {
    "colab": {
      "provenance": []
    },
    "kernelspec": {
      "name": "python3",
      "display_name": "Python 3"
    },
    "language_info": {
      "name": "python"
    }
  },
  "cells": [
    {
      "cell_type": "code",
      "source": [
        "import numpy as np"
      ],
      "metadata": {
        "id": "guUrKLHewRZg"
      },
      "execution_count": 3,
      "outputs": []
    },
    {
      "cell_type": "code",
      "source": [
        "#a 2D array\n",
        "arr=np.array([[7,3,2,4,9],[6,7,5,2,7],[9,2,5,7,2]])"
      ],
      "metadata": {
        "id": "EBVOwcMmwhi6"
      },
      "execution_count": 4,
      "outputs": []
    },
    {
      "cell_type": "code",
      "source": [
        "arr"
      ],
      "metadata": {
        "colab": {
          "base_uri": "https://localhost:8080/"
        },
        "id": "VUxB6BsiheEW",
        "outputId": "3fa5ba60-6e9b-4e17-f452-9e145678d05e"
      },
      "execution_count": 6,
      "outputs": [
        {
          "output_type": "execute_result",
          "data": {
            "text/plain": [
              "array([[7, 3, 2, 4, 9],\n",
              "       [6, 7, 5, 2, 7],\n",
              "       [9, 2, 5, 7, 2]])"
            ]
          },
          "metadata": {},
          "execution_count": 6
        }
      ]
    },
    {
      "cell_type": "code",
      "source": [
        "#axis=1(sort array row wise) and axis=0 (for column wise)\n",
        "np.sort(arr, axis=1, kind='quicksort')"
      ],
      "metadata": {
        "colab": {
          "base_uri": "https://localhost:8080/"
        },
        "id": "Z7gkt0bqhpTt",
        "outputId": "8a9dc90d-d237-463b-d351-46fb07960fdf"
      },
      "execution_count": 7,
      "outputs": [
        {
          "output_type": "execute_result",
          "data": {
            "text/plain": [
              "array([[2, 3, 4, 7, 9],\n",
              "       [2, 5, 6, 7, 7],\n",
              "       [2, 2, 5, 7, 9]])"
            ]
          },
          "metadata": {},
          "execution_count": 7
        }
      ]
    },
    {
      "cell_type": "code",
      "source": [
        "np.sort(arr, axis=0, kind='quicksort')"
      ],
      "metadata": {
        "colab": {
          "base_uri": "https://localhost:8080/"
        },
        "id": "9dfvkIOliZ5I",
        "outputId": "048ef03d-c2df-41e2-d425-139918e4c63e"
      },
      "execution_count": 8,
      "outputs": [
        {
          "output_type": "execute_result",
          "data": {
            "text/plain": [
              "array([[6, 2, 2, 2, 2],\n",
              "       [7, 3, 5, 4, 7],\n",
              "       [9, 7, 5, 7, 9]])"
            ]
          },
          "metadata": {},
          "execution_count": 8
        }
      ]
    },
    {
      "cell_type": "markdown",
      "source": [],
      "metadata": {
        "id": "rJDZyLcIwV_a"
      }
    }
  ]
}