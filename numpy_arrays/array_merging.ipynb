{
  "nbformat": 4,
  "nbformat_minor": 0,
  "metadata": {
    "colab": {
      "provenance": []
    },
    "kernelspec": {
      "name": "python3",
      "display_name": "Python 3"
    },
    "language_info": {
      "name": "python"
    }
  },
  "cells": [
    {
      "cell_type": "code",
      "execution_count": 1,
      "metadata": {
        "id": "sPFL_IcdjVxb"
      },
      "outputs": [],
      "source": [
        "import numpy as np"
      ]
    },
    {
      "cell_type": "code",
      "source": [
        "arr1=np.array([[1,2,3,4],[6,7,4,9]])\n",
        "arr2=np.array([[4,3,5,7],[3,7,2,3]])"
      ],
      "metadata": {
        "id": "FPpXmMV6ki7a"
      },
      "execution_count": 3,
      "outputs": []
    },
    {
      "cell_type": "code",
      "source": [
        "#concatenating them horizontally and vertically\n",
        "#vstack=vertically concatenating\n",
        "\n",
        "np.vstack((arr1,arr2))"
      ],
      "metadata": {
        "colab": {
          "base_uri": "https://localhost:8080/"
        },
        "id": "mFeXf9gekz_H",
        "outputId": "d1ebd0f3-ceef-40ca-9e1e-553ab8ce1c1a"
      },
      "execution_count": 5,
      "outputs": [
        {
          "output_type": "execute_result",
          "data": {
            "text/plain": [
              "array([[1, 2, 3, 4],\n",
              "       [6, 7, 4, 9],\n",
              "       [4, 3, 5, 7],\n",
              "       [3, 7, 2, 3]])"
            ]
          },
          "metadata": {},
          "execution_count": 5
        }
      ]
    },
    {
      "cell_type": "code",
      "source": [
        "np.hstack((arr1,arr2))  #horizontally concatenating"
      ],
      "metadata": {
        "colab": {
          "base_uri": "https://localhost:8080/"
        },
        "id": "YF3ctPKWlS6-",
        "outputId": "58625dbe-fdae-4785-c9d7-7ea89625b2f7"
      },
      "execution_count": 6,
      "outputs": [
        {
          "output_type": "execute_result",
          "data": {
            "text/plain": [
              "array([[1, 2, 3, 4, 4, 3, 5, 7],\n",
              "       [6, 7, 4, 9, 3, 7, 2, 3]])"
            ]
          },
          "metadata": {},
          "execution_count": 6
        }
      ]
    },
    {
      "cell_type": "markdown",
      "source": [
        "the reverse operation can also be performed i.e np.hstack((arr2,arr1))"
      ],
      "metadata": {
        "id": "sLrTq768loeQ"
      }
    },
    {
      "cell_type": "code",
      "source": [
        "np.concatenate((arr1,arr2),axis=0)"
      ],
      "metadata": {
        "colab": {
          "base_uri": "https://localhost:8080/"
        },
        "id": "GvhA8OXvlZKy",
        "outputId": "9605bb86-c7b3-4537-c8a2-41c89856591b"
      },
      "execution_count": 7,
      "outputs": [
        {
          "output_type": "execute_result",
          "data": {
            "text/plain": [
              "array([[1, 2, 3, 4],\n",
              "       [6, 7, 4, 9],\n",
              "       [4, 3, 5, 7],\n",
              "       [3, 7, 2, 3]])"
            ]
          },
          "metadata": {},
          "execution_count": 7
        }
      ]
    },
    {
      "cell_type": "code",
      "source": [
        "np.concatenate((arr1,arr2),axis=1)"
      ],
      "metadata": {
        "colab": {
          "base_uri": "https://localhost:8080/"
        },
        "id": "2imKwihfoH9H",
        "outputId": "74da11c0-c1cc-4a7a-a1a8-965edde977de"
      },
      "execution_count": 8,
      "outputs": [
        {
          "output_type": "execute_result",
          "data": {
            "text/plain": [
              "array([[1, 2, 3, 4, 4, 3, 5, 7],\n",
              "       [6, 7, 4, 9, 3, 7, 2, 3]])"
            ]
          },
          "metadata": {},
          "execution_count": 8
        }
      ]
    },
    {
      "cell_type": "code",
      "source": [
        "#splitting the array\n",
        "\n",
        "arr=np.concatenate((arr1,arr2),axis=0)\n"
      ],
      "metadata": {
        "id": "gb0TgpPcoPWs"
      },
      "execution_count": 9,
      "outputs": []
    },
    {
      "cell_type": "code",
      "source": [
        "arr"
      ],
      "metadata": {
        "colab": {
          "base_uri": "https://localhost:8080/"
        },
        "id": "4WbOxkxLoZ3Z",
        "outputId": "af9380a7-b53e-44d9-88c5-4a8550fe7717"
      },
      "execution_count": 10,
      "outputs": [
        {
          "output_type": "execute_result",
          "data": {
            "text/plain": [
              "array([[1, 2, 3, 4],\n",
              "       [6, 7, 4, 9],\n",
              "       [4, 3, 5, 7],\n",
              "       [3, 7, 2, 3]])"
            ]
          },
          "metadata": {},
          "execution_count": 10
        }
      ]
    },
    {
      "cell_type": "code",
      "source": [
        "np.hsplit(arr,2)   #2 is for splitting it into two halfs, hsplit=horizontal"
      ],
      "metadata": {
        "colab": {
          "base_uri": "https://localhost:8080/"
        },
        "id": "bjbSx8o4oboi",
        "outputId": "9593c85c-c8f7-4bf1-c311-d04210c5c9ea"
      },
      "execution_count": 12,
      "outputs": [
        {
          "output_type": "execute_result",
          "data": {
            "text/plain": [
              "[array([[1, 2],\n",
              "        [6, 7],\n",
              "        [4, 3],\n",
              "        [3, 7]]),\n",
              " array([[3, 4],\n",
              "        [4, 9],\n",
              "        [5, 7],\n",
              "        [2, 3]])]"
            ]
          },
          "metadata": {},
          "execution_count": 12
        }
      ]
    },
    {
      "cell_type": "code",
      "source": [
        "np.vsplit(arr,2)  #vsplit=vertical"
      ],
      "metadata": {
        "colab": {
          "base_uri": "https://localhost:8080/"
        },
        "id": "3zy3FTEloq2a",
        "outputId": "1b865f9d-212f-46c7-c679-a8dbfb15c7b3"
      },
      "execution_count": 14,
      "outputs": [
        {
          "output_type": "execute_result",
          "data": {
            "text/plain": [
              "[array([[1, 2, 3, 4],\n",
              "        [6, 7, 4, 9]]),\n",
              " array([[4, 3, 5, 7],\n",
              "        [3, 7, 2, 3]])]"
            ]
          },
          "metadata": {},
          "execution_count": 14
        }
      ]
    }
  ]
}